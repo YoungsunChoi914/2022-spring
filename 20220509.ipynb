{
  "nbformat": 4,
  "nbformat_minor": 0,
  "metadata": {
    "colab": {
      "name": "Untitled2.ipynb",
      "provenance": [],
      "authorship_tag": "ABX9TyORWo1vGJIWaNhFFrI1RmEb",
      "include_colab_link": true
    },
    "kernelspec": {
      "name": "python3",
      "display_name": "Python 3"
    },
    "language_info": {
      "name": "python"
    }
  },
  "cells": [
    {
      "cell_type": "markdown",
      "metadata": {
        "id": "view-in-github",
        "colab_type": "text"
      },
      "source": [
        "<a href=\"https://colab.research.google.com/github/YoungsunChoi914/Class2022Spring/blob/main/20220509.ipynb\" target=\"_parent\"><img src=\"https://colab.research.google.com/assets/colab-badge.svg\" alt=\"Open In Colab\"/></a>"
      ]
    },
    {
      "cell_type": "code",
      "source": [
        "import re"
      ],
      "metadata": {
        "id": "KNp-agkqjC0q"
      },
      "execution_count": 2,
      "outputs": []
    },
    {
      "cell_type": "code",
      "execution_count": 11,
      "metadata": {
        "id": "d4kUVp9eiVMI"
      },
      "outputs": [],
      "source": [
        "import os\n",
        "url = \"https://raw.githubusercontent.com/hsnam95/my/main/friends_season01_script.txt\"\n",
        "os.system(\"curl \" + url + \" > friends_season01_script.txt\")\n",
        "\n",
        "file = open(\"friends_season01_script.txt\")\n",
        "text = file.read()\n",
        "file.close()"
      ]
    },
    {
      "cell_type": "code",
      "source": [
        "text = re.sub('Rachel', '2021130914', text)"
      ],
      "metadata": {
        "id": "0Q_KCauzjY4d"
      },
      "execution_count": 8,
      "outputs": []
    },
    {
      "cell_type": "code",
      "source": [
        "file = open(\"20220509.txt\", \"w\")\n",
        "file.write(text)\n",
        "file.close()"
      ],
      "metadata": {
        "id": "LRY-D304j_Zl"
      },
      "execution_count": 10,
      "outputs": []
    }
  ]
}