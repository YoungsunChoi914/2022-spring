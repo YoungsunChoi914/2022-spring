{
  "nbformat": 4,
  "nbformat_minor": 0,
  "metadata": {
    "colab": {
      "name": "20220425",
      "provenance": [],
      "authorship_tag": "ABX9TyPThqAJW/x4pFfKwQKzazxw",
      "include_colab_link": true
    },
    "kernelspec": {
      "name": "python3",
      "display_name": "Python 3"
    },
    "language_info": {
      "name": "python"
    }
  },
  "cells": [
    {
      "cell_type": "markdown",
      "metadata": {
        "id": "view-in-github",
        "colab_type": "text"
      },
      "source": [
        "<a href=\"https://colab.research.google.com/github/YoungsunChoi914/2022-spring/blob/main/20220425.ipynb\" target=\"_parent\"><img src=\"https://colab.research.google.com/assets/colab-badge.svg\" alt=\"Open In Colab\"/></a>"
      ]
    },
    {
      "cell_type": "markdown",
      "source": [
        "Auto correlation (자기 상관)\n",
        "\n",
        "시간적으로 연속된 일련의 관측치들 간에 존재하는 상관관계로, 시계열 데이터에 내재하는 시점 간의 상관이다. \n",
        "\n",
        "시계열의 시차 값 간의 선형 관계를 측정한다. \n",
        "\n",
        "x(t)를 하나의 임의 프로세스로 했을 때 시각 t1일 때 값 x(t1)과 시각 t2일 때 값 x(t2) 사이의 관계이다.\n",
        "\n",
        "\n",
        "---\n",
        "\n",
        "Root Mean Square (제곱평균제곱근)\n",
        "\n",
        "일련의 값들에 대한 제곱평균제곱근은 원래의 값의 제곱들에 대한 산술평균의 제곱근이다.\n",
        "\n",
        "변수들의 분포가 음과 양의 값을 골고루 가질 때 그 크기의 정도를 알아보고자 할 때 유용한 방법이다. \n",
        "\n"
      ],
      "metadata": {
        "id": "qA0W7-fxnKoJ"
      }
    }
  ]
}