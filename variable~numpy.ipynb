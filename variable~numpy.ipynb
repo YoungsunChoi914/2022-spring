{
  "nbformat": 4,
  "nbformat_minor": 0,
  "metadata": {
    "kernelspec": {
      "display_name": "Python 3",
      "language": "python",
      "name": "python3"
    },
    "language_info": {
      "codemirror_mode": {
        "name": "ipython",
        "version": 3
      },
      "file_extension": ".py",
      "mimetype": "text/x-python",
      "name": "python",
      "nbconvert_exporter": "python",
      "pygments_lexer": "ipython3",
      "version": "3.7.1"
    },
    "colab": {
      "name": "variable~numpy",
      "provenance": [],
      "collapsed_sections": [
        "v1zA2xRWzpdu",
        "JcCdLoe_4bY7",
        "0hQuDJ5g9gpE",
        "G0exvwBbShBE"
      ],
      "include_colab_link": true
    }
  },
  "cells": [
    {
      "cell_type": "markdown",
      "metadata": {
        "id": "view-in-github",
        "colab_type": "text"
      },
      "source": [
        "<a href=\"https://colab.research.google.com/github/YoungsunChoi914/2022-spring/blob/main/variable~numpy.ipynb\" target=\"_parent\"><img src=\"https://colab.research.google.com/assets/colab-badge.svg\" alt=\"Open In Colab\"/></a>"
      ]
    },
    {
      "cell_type": "markdown",
      "source": [
        "Variable\n",
        "---\n",
        "\n"
      ],
      "metadata": {
        "id": "zHn7cQgKDx7F"
      }
    },
    {
      "cell_type": "code",
      "metadata": {
        "id": "goAyoU7vRheI",
        "outputId": "c1149d89-659d-4786-a59d-8c6bc99b93d1",
        "colab": {
          "base_uri": "https://localhost:8080/"
        }
      },
      "source": [
        "a = 1; print(type(a))"
      ],
      "execution_count": null,
      "outputs": [
        {
          "output_type": "stream",
          "name": "stdout",
          "text": [
            "<class 'int'>\n"
          ]
        }
      ]
    },
    {
      "cell_type": "markdown",
      "source": [
        "print는 값 출력.\n",
        "a의 type: int(integer)"
      ],
      "metadata": {
        "id": "DpQ7VZK9nJ-A"
      }
    },
    {
      "cell_type": "code",
      "metadata": {
        "id": "txxnoqJuRheJ",
        "outputId": "04d87d6a-b0c7-4686-cbc1-224c8bea6061",
        "colab": {
          "base_uri": "https://localhost:8080/"
        }
      },
      "source": [
        "a = 1.1; print(type(a))"
      ],
      "execution_count": null,
      "outputs": [
        {
          "output_type": "stream",
          "name": "stdout",
          "text": [
            "<class 'float'>\n"
          ]
        }
      ]
    },
    {
      "cell_type": "markdown",
      "source": [
        "float: 실수"
      ],
      "metadata": {
        "id": "g_iOrc4Eneg5"
      }
    },
    {
      "cell_type": "code",
      "metadata": {
        "id": "SyP0PB86RheL",
        "outputId": "519dd466-b725-44ed-ec63-15e6d2a37b7b",
        "colab": {
          "base_uri": "https://localhost:8080/"
        }
      },
      "source": [
        "a = '123'; print(type(a)); print(a[1])"
      ],
      "execution_count": null,
      "outputs": [
        {
          "output_type": "stream",
          "name": "stdout",
          "text": [
            "<class 'str'>\n",
            "2\n"
          ]
        }
      ]
    },
    {
      "cell_type": "markdown",
      "source": [
        "123의 type은 string(문자열)\n",
        "\n",
        "\n",
        "---\n",
        "\n",
        "a[1]이라고 표기하면 a 중에서 두번째 자리를 뜻함"
      ],
      "metadata": {
        "id": "NWWTa5wYnm6g"
      }
    },
    {
      "cell_type": "code",
      "source": [
        "a = 'hello'; print(type(a)); print(a[1])"
      ],
      "metadata": {
        "colab": {
          "base_uri": "https://localhost:8080/"
        },
        "id": "-Lj7Vem2AyiF",
        "outputId": "702a5a74-7f5a-401f-ae4d-8ba864dc9f64"
      },
      "execution_count": null,
      "outputs": [
        {
          "output_type": "stream",
          "name": "stdout",
          "text": [
            "<class 'str'>\n",
            "e\n"
          ]
        }
      ]
    },
    {
      "cell_type": "code",
      "metadata": {
        "id": "Df6PhU-tHXr2",
        "outputId": "cb825770-41a7-44b4-aa47-95da458e8720",
        "colab": {
          "base_uri": "https://localhost:8080/"
        }
      },
      "source": [
        "a = [1, 2, 3, 4]; print(type(a)); print(a[0])"
      ],
      "execution_count": null,
      "outputs": [
        {
          "output_type": "stream",
          "name": "stdout",
          "text": [
            "<class 'list'>\n",
            "1\n"
          ]
        }
      ]
    },
    {
      "cell_type": "markdown",
      "source": [
        "[1,2,3,4]의 타입은 list. *첫번째 자리부터 차례로 0, 1, 2번째 자리로 표시함"
      ],
      "metadata": {
        "id": "p59k4uX4oA6G"
      }
    },
    {
      "cell_type": "code",
      "source": [
        "a[1:-1]"
      ],
      "metadata": {
        "id": "5XEPRTp6IU9m",
        "outputId": "eaffd9ff-a7cd-4f68-fe67-f68160d70228",
        "colab": {
          "base_uri": "https://localhost:8080/"
        }
      },
      "execution_count": null,
      "outputs": [
        {
          "output_type": "execute_result",
          "data": {
            "text/plain": [
              "[2, 3]"
            ]
          },
          "metadata": {},
          "execution_count": 12
        }
      ]
    },
    {
      "cell_type": "markdown",
      "source": [
        "첫번째는 포함, 마지막은 미포함"
      ],
      "metadata": {
        "id": "9jWr4g-QJEnG"
      }
    },
    {
      "cell_type": "code",
      "source": [
        "# 연습\n",
        "a[:]"
      ],
      "metadata": {
        "colab": {
          "base_uri": "https://localhost:8080/"
        },
        "id": "TIqYWNlm_XVX",
        "outputId": "5c060bcb-a85e-4cda-83f9-914e83a62510"
      },
      "execution_count": null,
      "outputs": [
        {
          "output_type": "execute_result",
          "data": {
            "text/plain": [
              "[1, 2, 3, 4]"
            ]
          },
          "metadata": {},
          "execution_count": 13
        }
      ]
    },
    {
      "cell_type": "markdown",
      "source": [
        "처음부터 끝까지 할때는 뒤에 순서 없이/처음부터일 때는 앞에 순서 없이.\n",
        "마지막 순서는 -1자리이기도 함"
      ],
      "metadata": {
        "id": "B4aM0BaaJelR"
      }
    },
    {
      "cell_type": "markdown",
      "source": [
        "젤마지막 줄은 print를 생략해도 print를 쓴 효과가 있음"
      ],
      "metadata": {
        "id": "xV-zUAKiIp-d"
      }
    },
    {
      "cell_type": "code",
      "metadata": {
        "id": "DfS-gknCRheL"
      },
      "source": [
        "a = [1,'a', [3, '4']];"
      ],
      "execution_count": null,
      "outputs": []
    },
    {
      "cell_type": "markdown",
      "source": [
        "list안에 list 포함 가능"
      ],
      "metadata": {
        "id": "i3VMchXjokz7"
      }
    },
    {
      "cell_type": "code",
      "source": [
        "#연습 - list 안에 ''로 표시된 string포함 가능? - 가능!\n",
        "type(a[1])"
      ],
      "metadata": {
        "colab": {
          "base_uri": "https://localhost:8080/"
        },
        "id": "ZzWGz-UH_2fK",
        "outputId": "d624863e-99f5-403e-a659-d28fe7ecd9e5"
      },
      "execution_count": null,
      "outputs": [
        {
          "output_type": "execute_result",
          "data": {
            "text/plain": [
              "str"
            ]
          },
          "metadata": {},
          "execution_count": 23
        }
      ]
    },
    {
      "cell_type": "code",
      "source": [
        "a = [1,'a', [3, '4']]; print(type(a)); print(a[0]); print(a[1]); print(a[2]); print(a[2][1])"
      ],
      "metadata": {
        "id": "B84zBXI-LwvD",
        "outputId": "f750a47f-8321-41a1-b51e-01e734ad1912",
        "colab": {
          "base_uri": "https://localhost:8080/"
        }
      },
      "execution_count": null,
      "outputs": [
        {
          "output_type": "stream",
          "name": "stdout",
          "text": [
            "<class 'list'>\n",
            "1\n",
            "a\n",
            "[3, '4']\n",
            "4\n"
          ]
        }
      ]
    },
    {
      "cell_type": "markdown",
      "source": [
        "a의 2자리 [3, '4'] 중에서 0자리를 가리킴"
      ],
      "metadata": {
        "id": "bLgldOWCBRqz"
      }
    },
    {
      "cell_type": "code",
      "source": [
        "a='abcdef123'"
      ],
      "metadata": {
        "id": "nZrIDdhgNScH"
      },
      "execution_count": null,
      "outputs": []
    },
    {
      "cell_type": "code",
      "source": [
        "a[3:-1]"
      ],
      "metadata": {
        "id": "0jElWQNNNYTV",
        "outputId": "1994fbf2-aad9-473b-be8c-529027a3683a",
        "colab": {
          "base_uri": "https://localhost:8080/",
          "height": 36
        }
      },
      "execution_count": null,
      "outputs": [
        {
          "output_type": "execute_result",
          "data": {
            "text/plain": [
              "'def12'"
            ],
            "application/vnd.google.colaboratory.intrinsic+json": {
              "type": "string"
            }
          },
          "metadata": {},
          "execution_count": 28
        }
      ]
    },
    {
      "cell_type": "markdown",
      "source": [
        "string에서도 list와 마찬가지로 순서 표시"
      ],
      "metadata": {
        "id": "PlxHGXvUo3uW"
      }
    },
    {
      "cell_type": "code",
      "metadata": {
        "id": "2sivfloGRheM",
        "outputId": "6ba7a933-9e9e-45c7-b488-55bc89ed9380",
        "colab": {
          "base_uri": "https://localhost:8080/"
        }
      },
      "source": [
        "a =\t{\"a\": \"apple\", \"b\": \"orange\", \"c\": 2014}\n",
        "print(type(a))\n",
        "print(a[\"a\"])"
      ],
      "execution_count": null,
      "outputs": [
        {
          "output_type": "stream",
          "name": "stdout",
          "text": [
            "<class 'dict'>\n",
            "apple\n"
          ]
        }
      ]
    },
    {
      "cell_type": "markdown",
      "source": [
        "a의 type은 dictionary\n",
        "\n",
        "{key:value}\n",
        "\n",
        "---\n",
        "\n",
        "\n",
        "\" \" 대신 ' '를 사용해도 무관. 하지만 마지막 줄처럼 a를 출력하고자 할때 []안에 순서가 아닌 'a'라고 써야 함. "
      ],
      "metadata": {
        "id": "rFfgA7RrCyNS"
      }
    },
    {
      "cell_type": "markdown",
      "source": [
        "String\n",
        "---\n",
        "\n"
      ],
      "metadata": {
        "id": "zqoBGZyKDrh5"
      }
    },
    {
      "cell_type": "code",
      "metadata": {
        "id": "zwpWU02YmAur",
        "outputId": "a2bd79ea-97d5-4072-ab7e-2dcecc415283",
        "colab": {
          "base_uri": "https://localhost:8080/"
        }
      },
      "source": [
        "s = 'abcdef'\n",
        "print(s[0], s[5], s[-1], s[-6])\n",
        "print(s[1:3], s[1:], s[:3], s[:])"
      ],
      "execution_count": null,
      "outputs": [
        {
          "output_type": "stream",
          "name": "stdout",
          "text": [
            "a f f a\n",
            "bc bcdef abc abcdef\n"
          ]
        }
      ]
    },
    {
      "cell_type": "code",
      "metadata": {
        "id": "mpkdZBeWmAux",
        "outputId": "57ebabf3-488d-4492-a16d-3f873311cfd1",
        "colab": {
          "base_uri": "https://localhost:8080/"
        }
      },
      "source": [
        "n = [100, 200, 300]\n",
        "print(n[0], n[2], n[-1], n[-3])\n",
        "print(n[1:2], n[1:], n[:2], n[:])"
      ],
      "execution_count": null,
      "outputs": [
        {
          "output_type": "stream",
          "name": "stdout",
          "text": [
            "100 300 300 100\n",
            "[200] [200, 300] [100, 200] [100, 200, 300]\n"
          ]
        }
      ]
    },
    {
      "cell_type": "code",
      "source": [
        "type(n)"
      ],
      "metadata": {
        "colab": {
          "base_uri": "https://localhost:8080/"
        },
        "id": "I_4VBCD1EPje",
        "outputId": "942235a7-643e-4fca-e9ef-e11c31e098d9"
      },
      "execution_count": null,
      "outputs": [
        {
          "output_type": "execute_result",
          "data": {
            "text/plain": [
              "list"
            ]
          },
          "metadata": {},
          "execution_count": 35
        }
      ]
    },
    {
      "cell_type": "code",
      "metadata": {
        "id": "ulnefmnFmAuy",
        "outputId": "770f531f-23ce-42e5-faca-4a6888e93c0b",
        "colab": {
          "base_uri": "https://localhost:8080/"
        }
      },
      "source": [
        "len(s)"
      ],
      "execution_count": null,
      "outputs": [
        {
          "output_type": "execute_result",
          "data": {
            "text/plain": [
              "6"
            ]
          },
          "metadata": {},
          "execution_count": 36
        }
      ]
    },
    {
      "cell_type": "markdown",
      "source": [
        "s의 길이"
      ],
      "metadata": {
        "id": "65YlPdcApa84"
      }
    },
    {
      "cell_type": "code",
      "metadata": {
        "id": "a45rgiNMmAuy",
        "outputId": "db656b1a-4e43-4205-9714-861009fcdf25",
        "colab": {
          "base_uri": "https://localhost:8080/",
          "height": 36
        }
      },
      "source": [
        "s[1]+s[3]+s[4:]*10"
      ],
      "execution_count": null,
      "outputs": [
        {
          "output_type": "execute_result",
          "data": {
            "text/plain": [
              "'bdefefefefefefefefefef'"
            ],
            "application/vnd.google.colaboratory.intrinsic+json": {
              "type": "string"
            }
          },
          "metadata": {},
          "execution_count": 37
        }
      ]
    },
    {
      "cell_type": "markdown",
      "source": [
        "s[4:]*10은 10번 반복을 의미함"
      ],
      "metadata": {
        "id": "RHdBBmQTpeCt"
      }
    },
    {
      "cell_type": "code",
      "metadata": {
        "id": "IevwoMpmmAuz",
        "outputId": "bef24557-23b8-4c4e-c567-1b68d47be51d",
        "colab": {
          "base_uri": "https://localhost:8080/",
          "height": 36
        }
      },
      "source": [
        "s.upper()"
      ],
      "execution_count": null,
      "outputs": [
        {
          "output_type": "execute_result",
          "data": {
            "text/plain": [
              "'ABCDEF'"
            ],
            "application/vnd.google.colaboratory.intrinsic+json": {
              "type": "string"
            }
          },
          "metadata": {},
          "execution_count": 38
        }
      ]
    },
    {
      "cell_type": "code",
      "metadata": {
        "id": "LRU0Yt1amAuz",
        "outputId": "5363a4ff-c5a1-47fe-c3d1-7366c85f4db7",
        "colab": {
          "base_uri": "https://localhost:8080/",
          "height": 36
        }
      },
      "source": [
        "s = ' this is a house built this year.\\n' \t\n",
        "s"
      ],
      "execution_count": null,
      "outputs": [
        {
          "output_type": "execute_result",
          "data": {
            "text/plain": [
              "' this is a house built this year.\\n'"
            ],
            "application/vnd.google.colaboratory.intrinsic+json": {
              "type": "string"
            }
          },
          "metadata": {},
          "execution_count": 39
        }
      ]
    },
    {
      "cell_type": "markdown",
      "source": [
        "s는 print(s)를 짧게 쓴 것. 젤 마지막 줄이라 가능"
      ],
      "metadata": {
        "id": "ZZIix-OrLpJw"
      }
    },
    {
      "cell_type": "code",
      "metadata": {
        "id": "nMHteyDfmAu0",
        "outputId": "0159248e-aece-483b-8cab-7ac8611b6974",
        "colab": {
          "base_uri": "https://localhost:8080/"
        }
      },
      "source": [
        "result = s.find('house') \t    # index of first instance of string t inside s (-1 if not found)\n",
        "result"
      ],
      "execution_count": null,
      "outputs": [
        {
          "output_type": "execute_result",
          "data": {
            "text/plain": [
              "11"
            ]
          },
          "metadata": {},
          "execution_count": 40
        }
      ]
    },
    {
      "cell_type": "markdown",
      "source": [
        "house가 11번째 자리에 등장(띄어쓰기 포함)"
      ],
      "metadata": {
        "id": "TObM9zxcL8HX"
      }
    },
    {
      "cell_type": "code",
      "metadata": {
        "id": "gv82JUX7mAu0",
        "outputId": "97038502-182f-4655-bcad-19eba7231777",
        "colab": {
          "base_uri": "https://localhost:8080/"
        }
      },
      "source": [
        "result = s.find('this')\t      # index of first instance of string t inside s (-1 if not found)\n",
        "result"
      ],
      "execution_count": null,
      "outputs": [
        {
          "output_type": "execute_result",
          "data": {
            "text/plain": [
              "1"
            ]
          },
          "metadata": {},
          "execution_count": 41
        }
      ]
    },
    {
      "cell_type": "code",
      "metadata": {
        "id": "ua3TjwLcmAu2",
        "outputId": "0587bae6-d940-4533-d0dc-92c2686dae93",
        "colab": {
          "base_uri": "https://localhost:8080/",
          "height": 36
        }
      },
      "source": [
        "s = s.strip()      \t          # a copy of s without leading or trailing whitespace\n",
        "s"
      ],
      "execution_count": null,
      "outputs": [
        {
          "output_type": "execute_result",
          "data": {
            "text/plain": [
              "'this is a house built this year.'"
            ],
            "application/vnd.google.colaboratory.intrinsic+json": {
              "type": "string"
            }
          },
          "metadata": {},
          "execution_count": 42
        }
      ]
    },
    {
      "cell_type": "markdown",
      "source": [
        "\\n이 뭐라서 지워진것?????"
      ],
      "metadata": {
        "id": "vT3q7VPWF-cQ"
      }
    },
    {
      "cell_type": "code",
      "metadata": {
        "id": "l37g5DqQmAu2",
        "outputId": "83094a91-6f40-4360-ed1b-a3348dc283ed",
        "colab": {
          "base_uri": "https://localhost:8080/"
        }
      },
      "source": [
        "tokens = s.split(' ')\t        # split s into a list wherever a t is found (whitespace by default)\n",
        "tokens"
      ],
      "execution_count": null,
      "outputs": [
        {
          "output_type": "execute_result",
          "data": {
            "text/plain": [
              "['this', 'is', 'a', 'house', 'built', 'this', 'year.']"
            ]
          },
          "metadata": {},
          "execution_count": 44
        }
      ]
    },
    {
      "cell_type": "code",
      "source": [
        "type(tokens)"
      ],
      "metadata": {
        "colab": {
          "base_uri": "https://localhost:8080/"
        },
        "id": "6EaxGFQvGSNu",
        "outputId": "6fc18459-8f7c-4da4-9e9b-c57d0d405d65"
      },
      "execution_count": null,
      "outputs": [
        {
          "output_type": "execute_result",
          "data": {
            "text/plain": [
              "list"
            ]
          },
          "metadata": {},
          "execution_count": 45
        }
      ]
    },
    {
      "cell_type": "code",
      "metadata": {
        "id": "64sewKE8mAu2",
        "outputId": "ba270481-485c-42c5-e2d1-7654f23aee69",
        "colab": {
          "base_uri": "https://localhost:8080/",
          "height": 36
        }
      },
      "source": [
        "s = ' '.join(tokens)\t        # combine the words of the text into a string using s as the glue\n",
        "s"
      ],
      "execution_count": null,
      "outputs": [
        {
          "output_type": "execute_result",
          "data": {
            "text/plain": [
              "'this is a house built this year.'"
            ],
            "application/vnd.google.colaboratory.intrinsic+json": {
              "type": "string"
            }
          },
          "metadata": {},
          "execution_count": 46
        }
      ]
    },
    {
      "cell_type": "code",
      "metadata": {
        "id": "jfiqbBiImAu3",
        "outputId": "e5df4681-bf37-492e-e967-8802da0bea36",
        "colab": {
          "base_uri": "https://localhost:8080/",
          "height": 36
        }
      },
      "source": [
        "s = s.replace('this', 'that') # replace instances of t with u inside s\n",
        "s"
      ],
      "execution_count": null,
      "outputs": [
        {
          "output_type": "execute_result",
          "data": {
            "text/plain": [
              "'that is a house built that year.'"
            ],
            "application/vnd.google.colaboratory.intrinsic+json": {
              "type": "string"
            }
          },
          "metadata": {},
          "execution_count": 47
        }
      ]
    },
    {
      "cell_type": "markdown",
      "source": [
        "앞의 것을 뒤의 것으로 바꿈"
      ],
      "metadata": {
        "id": "TU59qXjNGgri"
      }
    },
    {
      "cell_type": "markdown",
      "source": [
        "Function\n",
        "---\n",
        "\n"
      ],
      "metadata": {
        "id": "cQenaMv1LIsA"
      }
    },
    {
      "cell_type": "code",
      "source": [
        "def add(a,b):\n",
        "  return a+b\n",
        "\n",
        "def subtract(a,b):\n",
        "  return a-b\n",
        "\n",
        "def multiply(a,b):\n",
        "  return a*b\n",
        "\n",
        "def divide(a,b):\n",
        "  return a/b"
      ],
      "metadata": {
        "id": "4vIqmKUvLMFa"
      },
      "execution_count": null,
      "outputs": []
    },
    {
      "cell_type": "markdown",
      "source": [
        "함수 만드는 법. \n",
        "\n",
        "def 함수명(입력변수):\n",
        "\n",
        "함수내용 입력\n",
        "\n",
        "return 출력변수"
      ],
      "metadata": {
        "id": "KJpcFy-QLbqW"
      }
    },
    {
      "cell_type": "code",
      "source": [
        "#연습. 이렇게 써도 무방\n",
        "def add(a,b):\n",
        "  c=a+b\n",
        "  return c\n",
        "add(1,3)"
      ],
      "metadata": {
        "colab": {
          "base_uri": "https://localhost:8080/"
        },
        "id": "Fwvn6SOqLNSB",
        "outputId": "e714deeb-f6ee-455a-abff-093a15727c03"
      },
      "execution_count": null,
      "outputs": [
        {
          "output_type": "execute_result",
          "data": {
            "text/plain": [
              "4"
            ]
          },
          "metadata": {},
          "execution_count": 49
        }
      ]
    },
    {
      "cell_type": "code",
      "source": [
        "c = add(1,2); print(c)\n",
        "c = subtract(1,2); print(c)\n",
        "c = multiply(1,2); print(c)\n",
        "c = divide(1,2); print(c)"
      ],
      "metadata": {
        "colab": {
          "base_uri": "https://localhost:8080/"
        },
        "id": "VzqyZp-LLT9M",
        "outputId": "35bfbee5-0d0b-4f31-a9a8-395c69a2e1b4"
      },
      "execution_count": null,
      "outputs": [
        {
          "output_type": "stream",
          "name": "stdout",
          "text": [
            "3\n",
            "-1\n",
            "2\n",
            "0.5\n"
          ]
        }
      ]
    },
    {
      "cell_type": "markdown",
      "source": [
        "Syntax\n",
        "---\n",
        "\n"
      ],
      "metadata": {
        "id": "gZwBvLvWSaJ3"
      }
    },
    {
      "cell_type": "code",
      "metadata": {
        "id": "Fu2mzgrqSLAU",
        "outputId": "693d1326-3c1c-4c48-8fc9-7f76c37a2cb0",
        "colab": {
          "base_uri": "https://localhost:8080/"
        }
      },
      "source": [
        "a = [1, 2, 3, 4]\n",
        "for i in a:\n",
        "    print(i)"
      ],
      "execution_count": null,
      "outputs": [
        {
          "output_type": "stream",
          "name": "stdout",
          "text": [
            "1\n",
            "2\n",
            "3\n",
            "4\n"
          ]
        }
      ]
    },
    {
      "cell_type": "markdown",
      "source": [
        "a에 있는 것들을 처음부터 순서대로 하나씩 i에 넣어 돌린다. \"for-loop\""
      ],
      "metadata": {
        "id": "RYsk48-QMQiX"
      }
    },
    {
      "cell_type": "code",
      "metadata": {
        "id": "XSJxLJVCSLAW",
        "outputId": "b703be58-3270-46de-99d8-cfec443cfa65",
        "colab": {
          "base_uri": "https://localhost:8080/"
        }
      },
      "source": [
        "a = [1, 2, 3, 4]\n",
        "for i in range(len(a)):\n",
        "    print(a[i])"
      ],
      "execution_count": null,
      "outputs": [
        {
          "output_type": "stream",
          "name": "stdout",
          "text": [
            "1\n",
            "2\n",
            "3\n",
            "4\n"
          ]
        }
      ]
    },
    {
      "cell_type": "markdown",
      "source": [
        "len(a)는 4.\n",
        "\n",
        "range(4)를 사용하여 index를 이용하여 만드는 방법\n",
        "\n",
        "range(4)가 [0,1,2,3]의 list를 만든다고 생각?????"
      ],
      "metadata": {
        "id": "q2tQcq7KS1Dr"
      }
    },
    {
      "cell_type": "code",
      "metadata": {
        "id": "VTfxVRdgSLAW",
        "outputId": "db4e9c72-5a1f-4576-8b43-f8c323bc1dca",
        "colab": {
          "base_uri": "https://localhost:8080/"
        }
      },
      "source": [
        "a = ['red', 'green', 'blue', 'purple']\n",
        "for i in a:\n",
        "    print(i)"
      ],
      "execution_count": null,
      "outputs": [
        {
          "output_type": "stream",
          "name": "stdout",
          "text": [
            "red\n",
            "green\n",
            "blue\n",
            "purple\n"
          ]
        }
      ]
    },
    {
      "cell_type": "code",
      "metadata": {
        "id": "Vc-7pW85SLAW",
        "outputId": "c61d1b6f-1a22-4c36-a39f-16b2d7ef2fe1",
        "colab": {
          "base_uri": "https://localhost:8080/"
        }
      },
      "source": [
        "a = ['red', 'green', 'blue', 'purple']\n",
        "for i in range(len(a)):\n",
        "    print(a[i])"
      ],
      "execution_count": null,
      "outputs": [
        {
          "output_type": "stream",
          "name": "stdout",
          "text": [
            "red\n",
            "green\n",
            "blue\n",
            "purple\n"
          ]
        }
      ]
    },
    {
      "cell_type": "code",
      "metadata": {
        "id": "dD-ephD3SLAX",
        "outputId": "0d2720d7-e49d-402e-f6be-c3dd53eed740",
        "colab": {
          "base_uri": "https://localhost:8080/"
        }
      },
      "source": [
        "a = 0\n",
        "if a == 0:\n",
        "    print(a)\n",
        "else:\n",
        "    print(a+1)"
      ],
      "execution_count": null,
      "outputs": [
        {
          "output_type": "stream",
          "name": "stdout",
          "text": [
            "0\n"
          ]
        }
      ]
    },
    {
      "cell_type": "markdown",
      "source": [
        "수학적으로 \"같다\"는 의미를 표시하기 위해서는 == 사용. \n",
        "if를 사용하여 a=0이라면 a를 출력하라는 조건문 작성"
      ],
      "metadata": {
        "id": "3ZvDcfRvTBok"
      }
    },
    {
      "cell_type": "code",
      "metadata": {
        "id": "M0AZaDMvSLAY",
        "outputId": "7d2372e2-0377-4d43-ab40-dc958d72b0f8",
        "colab": {
          "base_uri": "https://localhost:8080/"
        }
      },
      "source": [
        "for i in range(1, 3):\n",
        "    for j in range(3, 5):\n",
        "        print(i*j)"
      ],
      "execution_count": null,
      "outputs": [
        {
          "output_type": "stream",
          "name": "stdout",
          "text": [
            "3\n",
            "4\n",
            "6\n",
            "8\n"
          ]
        }
      ]
    },
    {
      "cell_type": "markdown",
      "source": [
        "range(1, 3) -> [1, 2] /\n",
        "range(3, 5) -> [3, 4]\n",
        "\n",
        "1x3, 1x4, 2x3, 2x4 차례로 출력\n"
      ],
      "metadata": {
        "id": "XqUpa9LiEYSN"
      }
    },
    {
      "cell_type": "code",
      "metadata": {
        "id": "ZPpZmVIHSLAY",
        "outputId": "4476cd93-46ae-46cf-cb99-fcf45ef9ff8e",
        "colab": {
          "base_uri": "https://localhost:8080/"
        }
      },
      "source": [
        "for i in range(1, 3):\n",
        "    for j in range(3, 5):\n",
        "        if j >=4:\n",
        "            print(i*j)"
      ],
      "execution_count": null,
      "outputs": [
        {
          "output_type": "stream",
          "name": "stdout",
          "text": [
            "4\n",
            "8\n"
          ]
        }
      ]
    },
    {
      "cell_type": "code",
      "metadata": {
        "id": "JQXk5vi0SLAY",
        "outputId": "d461af4b-db91-46c3-d964-76e0d3e994c1",
        "colab": {
          "base_uri": "https://localhost:8080/"
        }
      },
      "source": [
        "a = [1, 2, 3, 4]\n",
        "b = [i for i in a if i >=2]\n",
        "b"
      ],
      "execution_count": null,
      "outputs": [
        {
          "output_type": "execute_result",
          "data": {
            "text/plain": [
              "[2, 3, 4]"
            ]
          },
          "metadata": {},
          "execution_count": 61
        }
      ]
    },
    {
      "cell_type": "code",
      "metadata": {
        "id": "MDmBGZ3LSLAZ",
        "outputId": "021200b6-a5b9-441d-ceb8-9db8b45d4fa6",
        "colab": {
          "base_uri": "https://localhost:8080/"
        }
      },
      "source": [
        "a = ['red', 'green', 'blue', 'purple']\n",
        "b = [i for i in a if len(i) >=4]\n",
        "b"
      ],
      "execution_count": null,
      "outputs": [
        {
          "output_type": "execute_result",
          "data": {
            "text/plain": [
              "['green', 'blue', 'purple']"
            ]
          },
          "metadata": {},
          "execution_count": 62
        }
      ]
    },
    {
      "cell_type": "code",
      "source": [
        "a = ['red', 'green', 'blue', 'purple']\n",
        "b = [1, 2, 3, 4]\n",
        "c = {a[i]:b[i] for i in range(4)}\n",
        "c"
      ],
      "metadata": {
        "id": "Z6JMoDOHu48B",
        "outputId": "a22588b8-8eec-4c6a-c9a5-937c9958a9ba",
        "colab": {
          "base_uri": "https://localhost:8080/"
        }
      },
      "execution_count": null,
      "outputs": [
        {
          "output_type": "execute_result",
          "data": {
            "text/plain": [
              "{'blue': 3, 'green': 2, 'purple': 4, 'red': 1}"
            ]
          },
          "metadata": {},
          "execution_count": 64
        }
      ]
    },
    {
      "cell_type": "markdown",
      "source": [
        "a[0]:b[0], a[1]:b[1].. 식으로 나타남\n",
        "\n",
        "순서는 중요하지 않음. "
      ],
      "metadata": {
        "id": "1zavzqFZQLvp"
      }
    },
    {
      "cell_type": "markdown",
      "source": [
        "Import\n",
        "---\n",
        "\n"
      ],
      "metadata": {
        "id": "czLtcZNtT2e7"
      }
    },
    {
      "cell_type": "markdown",
      "source": [
        "많이 쓰는 package들은 이미 install 돼 있어서, import만 하면 쓸 수 있음. \n",
        "\n",
        "---\n",
        "\n",
        "install / import / built-in(import도 필요 없음)"
      ],
      "metadata": {
        "id": "hZQ7NopbROiL"
      }
    },
    {
      "cell_type": "markdown",
      "source": [
        "package 안에 여러 function이 있음. "
      ],
      "metadata": {
        "id": "Ng262WbYSDQs"
      }
    },
    {
      "cell_type": "code",
      "metadata": {
        "id": "JXicrkYOzPRo"
      },
      "source": [
        "import numpy as np\n",
        "n = np.random.randn(100)"
      ],
      "execution_count": null,
      "outputs": []
    },
    {
      "cell_type": "markdown",
      "source": [
        "np 안에 random이라는 directory가 있고 randn라는 function이 있음\n",
        "\n",
        "100개의 랜덤 숫자들\n",
        "\n",
        "---\n",
        "\n",
        "\n",
        "numpy를 np로 줄여서 사용하겠다는 뜻."
      ],
      "metadata": {
        "id": "P0glA5t9VfNp"
      }
    },
    {
      "cell_type": "code",
      "metadata": {
        "id": "oKT4vn4MwyLA",
        "colab": {
          "base_uri": "https://localhost:8080/",
          "height": 359
        },
        "outputId": "09aabb98-9911-49e2-8d72-caec7a596d22"
      },
      "source": [
        "import matplotlib\n",
        "matplotlib.pyplot.hist(n)"
      ],
      "execution_count": null,
      "outputs": [
        {
          "output_type": "execute_result",
          "data": {
            "text/plain": [
              "(array([ 3.,  3.,  3., 12., 15., 27., 21.,  8.,  3.,  5.]),\n",
              " array([-2.64646334, -2.12754467, -1.608626  , -1.08970733, -0.57078867,\n",
              "        -0.05187   ,  0.46704867,  0.98596734,  1.50488601,  2.02380468,\n",
              "         2.54272335]),\n",
              " <a list of 10 Patch objects>)"
            ]
          },
          "metadata": {},
          "execution_count": 66
        },
        {
          "output_type": "display_data",
          "data": {
            "text/plain": [
              "<Figure size 432x288 with 1 Axes>"
            ],
            "image/png": "[encoded data removed]"
          },
          "metadata": {
            "needs_background": "light"
          }
        }
      ]
    },
    {
      "cell_type": "markdown",
      "source": [
        "matplotlib는 plotting, visualizing의 대표적 package"
      ],
      "metadata": {
        "id": "u-5Bm6fjSyMb"
      }
    },
    {
      "cell_type": "markdown",
      "source": [
        "hist는 히스토그램을 그려줌. 위에서 랜덤으로 불러온 숫자들을 히스토그램으로 정리"
      ],
      "metadata": {
        "id": "anHK-FDlXGPR"
      }
    },
    {
      "cell_type": "code",
      "metadata": {
        "colab": {
          "base_uri": "https://localhost:8080/",
          "height": 359
        },
        "id": "zQJ4LnbA-Hvz",
        "outputId": "a23f001c-60d8-444b-9821-d1d8c778ddc3"
      },
      "source": [
        "import matplotlib.pyplot\n",
        "matplotlib.pyplot.hist(n)"
      ],
      "execution_count": null,
      "outputs": [
        {
          "output_type": "execute_result",
          "data": {
            "text/plain": [
              "(array([ 3.,  3.,  3., 12., 15., 27., 21.,  8.,  3.,  5.]),\n",
              " array([-2.64646334, -2.12754467, -1.608626  , -1.08970733, -0.57078867,\n",
              "        -0.05187   ,  0.46704867,  0.98596734,  1.50488601,  2.02380468,\n",
              "         2.54272335]),\n",
              " <a list of 10 Patch objects>)"
            ]
          },
          "metadata": {},
          "execution_count": 67
        },
        {
          "output_type": "display_data",
          "data": {
            "text/plain": [
              "<Figure size 432x288 with 1 Axes>"
            ],
            "image/png": "[encoded data removed]"
          },
          "metadata": {
            "needs_background": "light"
          }
        }
      ]
    },
    {
      "cell_type": "code",
      "metadata": {
        "id": "AWU6awi53c07",
        "outputId": "db506f05-6a30-464c-b118-5efc36f49002",
        "colab": {
          "base_uri": "https://localhost:8080/",
          "height": 359
        }
      },
      "source": [
        "import matplotlib.pyplot as plt\n",
        "plt.hist(n)"
      ],
      "execution_count": null,
      "outputs": [
        {
          "output_type": "execute_result",
          "data": {
            "text/plain": [
              "(array([ 3.,  3.,  3., 12., 15., 27., 21.,  8.,  3.,  5.]),\n",
              " array([-2.64646334, -2.12754467, -1.608626  , -1.08970733, -0.57078867,\n",
              "        -0.05187   ,  0.46704867,  0.98596734,  1.50488601,  2.02380468,\n",
              "         2.54272335]),\n",
              " <a list of 10 Patch objects>)"
            ]
          },
          "metadata": {},
          "execution_count": 68
        },
        {
          "output_type": "display_data",
          "data": {
            "text/plain": [
              "<Figure size 432x288 with 1 Axes>"
            ],
            "image/png": "[encoded data removed]"
          },
          "metadata": {
            "needs_background": "light"
          }
        }
      ]
    },
    {
      "cell_type": "markdown",
      "source": [
        "from import를 쓰면 import as처럼 축약해서 부를 수 있는 효과"
      ],
      "metadata": {
        "id": "v1zA2xRWzpdu"
      }
    },
    {
      "cell_type": "code",
      "metadata": {
        "colab": {
          "base_uri": "https://localhost:8080/",
          "height": 359
        },
        "id": "moIjn3Kv-Hqy",
        "outputId": "49c7b671-7823-434c-81a2-44b417a44840"
      },
      "source": [
        "from matplotlib import pyplot\n",
        "pyplot.hist(n)"
      ],
      "execution_count": null,
      "outputs": [
        {
          "output_type": "execute_result",
          "data": {
            "text/plain": [
              "(array([ 3.,  3.,  3., 12., 15., 27., 21.,  8.,  3.,  5.]),\n",
              " array([-2.64646334, -2.12754467, -1.608626  , -1.08970733, -0.57078867,\n",
              "        -0.05187   ,  0.46704867,  0.98596734,  1.50488601,  2.02380468,\n",
              "         2.54272335]),\n",
              " <a list of 10 Patch objects>)"
            ]
          },
          "metadata": {},
          "execution_count": 69
        },
        {
          "output_type": "display_data",
          "data": {
            "text/plain": [
              "<Figure size 432x288 with 1 Axes>"
            ],
            "image/png": "[encoded data removed]"
          },
          "metadata": {
            "needs_background": "light"
          }
        }
      ]
    },
    {
      "cell_type": "code",
      "metadata": {
        "colab": {
          "base_uri": "https://localhost:8080/",
          "height": 359
        },
        "id": "ORo259i7_Uqi",
        "outputId": "a96b1235-b631-40e4-9c00-85d5f5079c0e"
      },
      "source": [
        "from matplotlib.pyplot import hist\n",
        "hist(n)"
      ],
      "execution_count": null,
      "outputs": [
        {
          "output_type": "execute_result",
          "data": {
            "text/plain": [
              "(array([ 3.,  3.,  3., 12., 15., 27., 21.,  8.,  3.,  5.]),\n",
              " array([-2.64646334, -2.12754467, -1.608626  , -1.08970733, -0.57078867,\n",
              "        -0.05187   ,  0.46704867,  0.98596734,  1.50488601,  2.02380468,\n",
              "         2.54272335]),\n",
              " <a list of 10 Patch objects>)"
            ]
          },
          "metadata": {},
          "execution_count": 70
        },
        {
          "output_type": "display_data",
          "data": {
            "text/plain": [
              "<Figure size 432x288 with 1 Axes>"
            ],
            "image/png": "[encoded data removed]"
          },
          "metadata": {
            "needs_background": "light"
          }
        }
      ]
    },
    {
      "cell_type": "markdown",
      "source": [
        "Numpy\n",
        "---\n",
        "\n"
      ],
      "metadata": {
        "id": "QjzRvG_eWpq_"
      }
    },
    {
      "cell_type": "markdown",
      "metadata": {
        "id": "JcCdLoe_4bY7"
      },
      "source": [
        "### create nd arrays (≈matrices)"
      ]
    },
    {
      "cell_type": "markdown",
      "source": [
        "matrix (행렬): 직사각형의 숫자 배열\n",
        "nd: n dimensional "
      ],
      "metadata": {
        "id": "IDq-4gTCYZEc"
      }
    },
    {
      "cell_type": "code",
      "metadata": {
        "id": "5ap7xyofShBB"
      },
      "source": [
        "import numpy as np"
      ],
      "execution_count": null,
      "outputs": []
    },
    {
      "cell_type": "code",
      "metadata": {
        "id": "2rqpSPZCShBC",
        "colab": {
          "base_uri": "https://localhost:8080/"
        },
        "outputId": "7cee8d81-d0ca-4cfd-8374-5ee776f1c3d7"
      },
      "source": [
        "x = np.array([1,2,3])\n",
        "print(x)\n",
        "print(type(x))\n",
        "print(x.shape)"
      ],
      "execution_count": null,
      "outputs": [
        {
          "output_type": "stream",
          "name": "stdout",
          "text": [
            "[1 2 3]\n",
            "<class 'numpy.ndarray'>\n",
            "(3,)\n"
          ]
        }
      ]
    },
    {
      "cell_type": "markdown",
      "source": [
        "list는 계산이 될 수 없어서 array로 바꿔줘야 함. "
      ],
      "metadata": {
        "id": "oh4cMpg3VliZ"
      }
    },
    {
      "cell_type": "markdown",
      "source": [
        "(3,) -> 3칸 짜리 1d array"
      ],
      "metadata": {
        "id": "nTqUZJOaZsdt"
      }
    },
    {
      "cell_type": "code",
      "metadata": {
        "id": "EjC88C75ShBC",
        "colab": {
          "base_uri": "https://localhost:8080/"
        },
        "outputId": "f640ed6d-2826-4565-e714-24310e053866"
      },
      "source": [
        "x = np.arange(0,10,2)\n",
        "print(x)\n",
        "print(type(x))\n",
        "print(x.shape)"
      ],
      "execution_count": null,
      "outputs": [
        {
          "output_type": "stream",
          "name": "stdout",
          "text": [
            "[0 2 4 6 8]\n",
            "<class 'numpy.ndarray'>\n",
            "(5,)\n"
          ]
        }
      ]
    },
    {
      "cell_type": "markdown",
      "source": [
        "arrange: 0부터 10 전까지 2씩 증가하면서 만들어라\n",
        "2: increment"
      ],
      "metadata": {
        "id": "yNmv6524Zh9G"
      }
    },
    {
      "cell_type": "code",
      "metadata": {
        "id": "-MwkCEjTShBC",
        "colab": {
          "base_uri": "https://localhost:8080/"
        },
        "outputId": "872fb39a-abeb-4ef8-a84b-94c8cedb47fa"
      },
      "source": [
        "x = np.linspace(0,10,6)\n",
        "print(x)\n",
        "print(type(x))\n",
        "print(x.shape)"
      ],
      "execution_count": null,
      "outputs": [
        {
          "output_type": "stream",
          "name": "stdout",
          "text": [
            "[ 0.  2.  4.  6.  8. 10.]\n",
            "<class 'numpy.ndarray'>\n",
            "(6,)\n"
          ]
        }
      ]
    },
    {
      "cell_type": "markdown",
      "source": [
        "linear space -> 0부터 10까지 등간격으로 6개의 숫자를 만듦 *10포함"
      ],
      "metadata": {
        "id": "UsdluPLNZ8g6"
      }
    },
    {
      "cell_type": "code",
      "metadata": {
        "id": "tjk79SQ27fNv",
        "colab": {
          "base_uri": "https://localhost:8080/"
        },
        "outputId": "d2276605-8221-4cc4-89bd-a3461ae83256"
      },
      "source": [
        "x = np.array([[1,2,3], [4,5,6]])\n",
        "print(x)\n",
        "print(type(x))\n",
        "print(x.shape)"
      ],
      "execution_count": null,
      "outputs": [
        {
          "output_type": "stream",
          "name": "stdout",
          "text": [
            "[[1 2 3]\n",
            " [4 5 6]]\n",
            "<class 'numpy.ndarray'>\n",
            "(2, 3)\n"
          ]
        }
      ]
    },
    {
      "cell_type": "markdown",
      "source": [
        "[1,2,3], [4,5,6]으로 나누어서 쓰면 줄이 바뀌면서 2d array가 됨. \n",
        "\n",
        "왜 1d array일때만 shape에서 행과 열 표시가 반대로 되는지?????"
      ],
      "metadata": {
        "id": "LoSUZsjuXGiL"
      }
    },
    {
      "cell_type": "code",
      "metadata": {
        "id": "C1ogg6iZ7yir",
        "colab": {
          "base_uri": "https://localhost:8080/"
        },
        "outputId": "aa5a23fc-40c6-45fb-b2ad-051fe4d56f98"
      },
      "source": [
        "x = np.array([[[1,2,3], [4,5,6]], [[7,8,9], [10,11,12]]])\n",
        "print(x)\n",
        "print(type(x))\n",
        "print(x.shape)"
      ],
      "execution_count": null,
      "outputs": [
        {
          "output_type": "stream",
          "name": "stdout",
          "text": [
            "[[[ 1  2  3]\n",
            "  [ 4  5  6]]\n",
            "\n",
            " [[ 7  8  9]\n",
            "  [10 11 12]]]\n",
            "<class 'numpy.ndarray'>\n",
            "(2, 2, 3)\n"
          ]
        }
      ]
    },
    {
      "cell_type": "markdown",
      "source": [
        "[의 개수로 간단히 형태 파악 가능. (2, 2, \n",
        "\n",
        "---\n",
        "\n",
        "3)은 3d array의 표현\n",
        "\n",
        "(세번째 괄호, 두번째 괄호, 첫번재 괄호) 순서로 적혀짐. 즉, 3x2x2라고 생각할 수 있음. "
      ],
      "metadata": {
        "id": "eAxcueACZF2u"
      }
    },
    {
      "cell_type": "code",
      "metadata": {
        "id": "efgeNHtD8ZlT",
        "colab": {
          "base_uri": "https://localhost:8080/"
        },
        "outputId": "74113691-0b02-49d9-815a-28a12e3c35ae"
      },
      "source": [
        "x = np.ones([2, 2, 3])\n",
        "print(x)\n",
        "print(type(x))\n",
        "print(x.shape)"
      ],
      "execution_count": null,
      "outputs": [
        {
          "output_type": "stream",
          "name": "stdout",
          "text": [
            "[[[1. 1. 1.]\n",
            "  [1. 1. 1.]]\n",
            "\n",
            " [[1. 1. 1.]\n",
            "  [1. 1. 1.]]]\n",
            "<class 'numpy.ndarray'>\n",
            "(2, 2, 3)\n"
          ]
        }
      ]
    },
    {
      "cell_type": "markdown",
      "source": [
        "ones: [2, 2, 3] 모양이 모두 1로 채워주는 함수"
      ],
      "metadata": {
        "id": "lbQANuKFXffT"
      }
    },
    {
      "cell_type": "code",
      "metadata": {
        "id": "b_F-ccY08zzl",
        "colab": {
          "base_uri": "https://localhost:8080/"
        },
        "outputId": "0e20c761-eaa7-48f3-b3c0-7290c85cccea"
      },
      "source": [
        "x = np.zeros([2, 2, 3])\n",
        "print(x)\n",
        "print(type(x))\n",
        "print(x.shape)\n",
        "x.reshape(3,2,2)"
      ],
      "execution_count": null,
      "outputs": [
        {
          "output_type": "stream",
          "name": "stdout",
          "text": [
            "[[[0. 0. 0.]\n",
            "  [0. 0. 0.]]\n",
            "\n",
            " [[0. 0. 0.]\n",
            "  [0. 0. 0.]]]\n",
            "<class 'numpy.ndarray'>\n",
            "(2, 2, 3)\n"
          ]
        },
        {
          "output_type": "execute_result",
          "data": {
            "text/plain": [
              "array([[[0., 0.],\n",
              "        [0., 0.]],\n",
              "\n",
              "       [[0., 0.],\n",
              "        [0., 0.]],\n",
              "\n",
              "       [[0., 0.],\n",
              "        [0., 0.]]])"
            ]
          },
          "metadata": {},
          "execution_count": 78
        }
      ]
    },
    {
      "cell_type": "markdown",
      "metadata": {
        "id": "0hQuDJ5g9gpE"
      },
      "source": [
        "### create random numbers"
      ]
    },
    {
      "cell_type": "code",
      "source": [
        "np.random.normal(0, 1, [2,3,4])"
      ],
      "metadata": {
        "id": "pCVnElBgan70",
        "outputId": "1179c237-704f-4c4c-ba61-adc888ffb3ac",
        "colab": {
          "base_uri": "https://localhost:8080/"
        }
      },
      "execution_count": null,
      "outputs": [
        {
          "output_type": "execute_result",
          "data": {
            "text/plain": [
              "array([[[ 1.5505231 ,  0.45285145, -2.25340981,  0.70795627],\n",
              "        [ 0.05229687,  0.0582211 ,  0.14018672, -0.12051163],\n",
              "        [-0.60453982, -0.09014387, -1.06088944,  0.07149047]],\n",
              "\n",
              "       [[ 0.81987712, -0.22798436, -0.79704638,  0.78003531],\n",
              "        [-1.08424992, -0.00531972, -0.1405424 ,  0.87226204],\n",
              "        [-0.96918483, -0.10836193, -0.35467588,  1.67088584]]])"
            ]
          },
          "metadata": {},
          "execution_count": 79
        }
      ]
    },
    {
      "cell_type": "markdown",
      "source": [
        "(평균값, standard deviation(표준편차), 구조) \n",
        "\n",
        "[2,3,4]-> 행렬에 관한 설명"
      ],
      "metadata": {
        "id": "DWrUIq4mfVsJ"
      }
    },
    {
      "cell_type": "code",
      "metadata": {
        "id": "QRatmkx79otL"
      },
      "source": [
        "import matplotlib.pyplot as plt"
      ],
      "execution_count": null,
      "outputs": []
    },
    {
      "cell_type": "code",
      "metadata": {
        "id": "z1oOAB6dShBD",
        "colab": {
          "base_uri": "https://localhost:8080/",
          "height": 676
        },
        "outputId": "f2160ed7-d049-4b83-9dbc-989ebc150372"
      },
      "source": [
        "x = np.random.normal(0, 1, 100)\n",
        "print(x)\n",
        "plt.hist(x, bins=10)"
      ],
      "execution_count": null,
      "outputs": [
        {
          "output_type": "stream",
          "name": "stdout",
          "text": [
            "[ 0.86008136  0.80610509  0.36008379  1.78169417 -1.1559238  -0.69050109\n",
            " -0.50936392 -1.4684195   0.0881254  -1.10514052 -0.64752816 -0.56275184\n",
            "  0.30045373 -2.15328563 -1.0295208   0.85475872 -1.5283668  -0.7987249\n",
            " -1.66193937 -0.01706167 -0.56701311  1.23220007  0.53133325  0.11883978\n",
            "  2.02849224  0.03844121 -0.49141193 -0.83029737  0.5065758   0.16011331\n",
            " -0.83200208 -1.8807602  -0.02672567 -0.88429448 -1.02453829  1.2108761\n",
            "  0.86128457  1.48745696 -0.16496427  1.66391388  0.20811636 -1.15641316\n",
            " -0.34693362 -0.02686483  0.08781869 -0.26588171  0.29814869 -1.41488288\n",
            " -1.08253094  1.82560274 -0.45475944  0.29874059 -0.97558781  1.08108227\n",
            " -0.15623701  0.17674659  1.04698291 -0.92339852 -1.79721715  0.86594033\n",
            " -0.98146088  0.56521431  0.54164769  1.73574432  1.39044315 -2.0429941\n",
            "  0.06502577  1.70080786  0.36609912  1.2603175   0.08581927  0.15674624\n",
            " -0.97760653 -0.26850437 -0.19033594 -0.06569226  0.82510227 -0.69324196\n",
            " -2.12694194  0.30198542 -0.02114369  0.81642806  0.80838627  0.22396852\n",
            " -0.22488781 -1.63273594 -2.26095754 -0.68263128 -0.53844854 -0.98879276\n",
            " -0.69102539  1.29400147  0.51106656 -2.33945428  0.60758556  1.89941011\n",
            "  1.81576957 -3.43876732  0.22096278 -0.13295938]\n"
          ]
        },
        {
          "output_type": "execute_result",
          "data": {
            "text/plain": [
              "(array([ 1.,  0.,  6.,  6., 15., 17., 25., 14.,  7.,  9.]),\n",
              " array([-3.43876732, -2.89204136, -2.34531541, -1.79858945, -1.25186349,\n",
              "        -0.70513754, -0.15841158,  0.38831437,  0.93504033,  1.48176629,\n",
              "         2.02849224]),\n",
              " <a list of 10 Patch objects>)"
            ]
          },
          "metadata": {},
          "execution_count": 81
        },
        {
          "output_type": "display_data",
          "data": {
            "text/plain": [
              "<Figure size 432x288 with 1 Axes>"
            ],
            "image/png": "[encoded data removed]"
          },
          "metadata": {
            "needs_background": "light"
          }
        }
      ]
    },
    {
      "cell_type": "markdown",
      "source": [
        "100개의 무작위 숫자로 구성된 1d array\n",
        "\n",
        "---\n",
        "\n",
        "bins: 가로축 칸수 \n"
      ],
      "metadata": {
        "id": "HnQXexM1fPqN"
      }
    },
    {
      "cell_type": "markdown",
      "metadata": {
        "id": "G0exvwBbShBE"
      },
      "source": [
        "### generate a sine curve"
      ]
    },
    {
      "cell_type": "code",
      "metadata": {
        "id": "HgQmRXzMShBE",
        "colab": {
          "base_uri": "https://localhost:8080/",
          "height": 284
        },
        "outputId": "f9654db6-b189-4353-d2b8-11509bae6031"
      },
      "source": [
        "plt.figure()\n",
        "\n",
        "theta1 = np.linspace(0, 2*np.pi, 100)\n",
        "s1 = np.sin(theta1)\n",
        "theta2 = np.linspace(0, 2*np.pi, 100) + np.pi/2\n",
        "s2 = np.sin(theta2)\n",
        "\n",
        "plt.subplot(2, 1, 1) # (rows, columns, panel number)\n",
        "plt.plot(theta1, s1, '.')\n",
        "plt.subplot(2, 1, 2) # (rows, columns, panel number)\n",
        "plt.plot(theta2, s2, '.')"
      ],
      "execution_count": null,
      "outputs": [
        {
          "output_type": "execute_result",
          "data": {
            "text/plain": [
              "[<matplotlib.lines.Line2D at 0x7f54e1451110>]"
            ]
          },
          "metadata": {},
          "execution_count": 82
        },
        {
          "output_type": "display_data",
          "data": {
            "text/plain": [
              "<Figure size 432x288 with 2 Axes>"
            ],
            "image/png": "[encoded data removed]"
          },
          "metadata": {
            "needs_background": "light"
          }
        }
      ]
    },
    {
      "cell_type": "markdown",
      "source": [
        "0부터 2ㅠ까지 등간격으로 100개의 숫자를 만듦.\n",
        "\n",
        "2*np.pi: 2파이.\n",
        "\n",
        "---\n",
        "\n",
        "subplot은 틀을 잡아줌. row가 2개, column이 1개가 되도록 그래프를 두고 각각 첫번째와 두번째에 그려넣음. \n",
        "\n",
        "\n",
        "---\n",
        "\n",
        "\n",
        "plot은 x축, y축 두 개의 값을 필요로 함. \n",
        "\n",
        "x=theta1, y=s1, '.'은 그래프에 값을 표시하는 형태"
      ],
      "metadata": {
        "id": "A6tzou0OjFHr"
      }
    },
    {
      "cell_type": "code",
      "metadata": {
        "id": "TuH489v9BvQ7",
        "colab": {
          "base_uri": "https://localhost:8080/"
        },
        "outputId": "180c0608-965c-4bd3-9284-bd597d6bb26b"
      },
      "source": [
        "np.corrcoef(s1,s2)"
      ],
      "execution_count": null,
      "outputs": [
        {
          "output_type": "execute_result",
          "data": {
            "text/plain": [
              "array([[1.00000000e+00, 2.41915449e-17],\n",
              "       [2.41915449e-17, 1.00000000e+00]])"
            ]
          },
          "metadata": {},
          "execution_count": 84
        }
      ]
    },
    {
      "cell_type": "markdown",
      "source": [
        "correlation, coefficient : -1~1까지의 값. -면 반비례, +이면 정비례\n",
        "0에 가까울수록 밀집도가 떨어지고, 1에 가까울수록 밀집도가 높음. \n",
        "\n",
        "---\n",
        "\n",
        "(s1,s2)x(s1,s2)로 결합하여 따지기 때문에 4개의 값이 나온 것"
      ],
      "metadata": {
        "id": "x1R3X-b4dgc4"
      }
    }
  ]
}